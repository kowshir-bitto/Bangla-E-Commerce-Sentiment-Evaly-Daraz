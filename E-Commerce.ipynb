{
 "cells": [
  {
   "cell_type": "code",
   "execution_count": 10,
   "metadata": {
    "colab": {},
    "colab_type": "code",
    "executionInfo": {
     "elapsed": 940,
     "status": "ok",
     "timestamp": 1596397382606,
     "user": {
      "displayName": "EFTEKHAR HOSSAIN 1308006",
      "photoUrl": "https://lh3.googleusercontent.com/a-/AOh14GhB_S2SahlIoGyzj581ugCWrrC6Yl1l6BBILkt0=s64",
      "userId": "05840817180100570187"
     },
     "user_tz": -360
    },
    "id": "IT-FRKrbdrqz"
   },
   "outputs": [],
   "source": [
    "import numpy as np\n",
    "import pandas as pd\n",
    "import matplotlib.pyplot as plt\n",
    "%matplotlib inline\n",
    "import seaborn as sns\n",
    "import re,json,nltk\n",
    "from sklearn.preprocessing import LabelEncoder\n",
    "from sklearn.feature_extraction.text import TfidfVectorizer\n",
    "from sklearn.model_selection import train_test_split\n",
    "from sklearn.metrics import classification_report,accuracy_score,precision_score,recall_score,f1_score\n",
    "from tensorflow.keras.preprocessing.text import Tokenizer\n",
    "stopwords_list = 'bangla_stopwords.txt'\n",
    "class color: # Text style\n",
    "   PURPLE = '\\033[95m'\n",
    "   CYAN = '\\033[96m'\n",
    "   DARKCYAN = '\\033[36m'\n",
    "   BLUE = '\\033[94m'\n",
    "   GREEN = '\\033[92m'\n",
    "   YELLOW = '\\033[93m'\n",
    "   RED = '\\033[91m'\n",
    "   BOLD = '\\033[1m'\n",
    "   UNDERLINE = '\\033[4m'\n",
    "   END = '\\033[0m'"
   ]
  },
  {
   "cell_type": "markdown",
   "metadata": {
    "colab_type": "text",
    "id": "LbFfm0MPeG4Y"
   },
   "source": [
    "## Dataset Preparation"
   ]
  },
  {
   "cell_type": "code",
   "execution_count": 11,
   "metadata": {},
   "outputs": [
    {
     "data": {
      "text/html": [
       "<div>\n",
       "<style scoped>\n",
       "    .dataframe tbody tr th:only-of-type {\n",
       "        vertical-align: middle;\n",
       "    }\n",
       "\n",
       "    .dataframe tbody tr th {\n",
       "        vertical-align: top;\n",
       "    }\n",
       "\n",
       "    .dataframe thead th {\n",
       "        text-align: right;\n",
       "    }\n",
       "</style>\n",
       "<table border=\"1\" class=\"dataframe\">\n",
       "  <thead>\n",
       "    <tr style=\"text-align: right;\">\n",
       "      <th></th>\n",
       "      <th>Name</th>\n",
       "      <th>Comment</th>\n",
       "      <th>Tag</th>\n",
       "    </tr>\n",
       "  </thead>\n",
       "  <tbody>\n",
       "    <tr>\n",
       "      <th>0</th>\n",
       "      <td>Monirul Ahmed</td>\n",
       "      <td>আদৌও কি আমার রিফান্ড পাবো, প্রিয় ই- ভালি?????...</td>\n",
       "      <td>Bad</td>\n",
       "    </tr>\n",
       "    <tr>\n",
       "      <th>1</th>\n",
       "      <td>Tanzil Ayon</td>\n",
       "      <td>আপনাদের প্রায়োরিটি স্টোর/ T10 এর আগের পণ্য গু...</td>\n",
       "      <td>Bad</td>\n",
       "    </tr>\n",
       "    <tr>\n",
       "      <th>2</th>\n",
       "      <td>HM Athir Al Azad</td>\n",
       "      <td>Order করেছি কিন্তু এখনো নোটিফিকেশন এর মাধ্যমে ...</td>\n",
       "      <td>Bad</td>\n",
       "    </tr>\n",
       "    <tr>\n",
       "      <th>3</th>\n",
       "      <td>মোহাম্মদ ইকবাল হোসাইন রুবেল</td>\n",
       "      <td>পেমেন্ট করতে চাইলে নিচের মেসেজ টা শো করছে।আমার...</td>\n",
       "      <td>Neutral</td>\n",
       "    </tr>\n",
       "    <tr>\n",
       "      <th>4</th>\n",
       "      <td>DrSheikh Rumi</td>\n",
       "      <td>msung M01s) এটা ৭ দিনের গ্যারান্টেড ডেলিভারির ...</td>\n",
       "      <td>Bad</td>\n",
       "    </tr>\n",
       "    <tr>\n",
       "      <th>...</th>\n",
       "      <td>...</td>\n",
       "      <td>...</td>\n",
       "      <td>...</td>\n",
       "    </tr>\n",
       "    <tr>\n",
       "      <th>944</th>\n",
       "      <td>Ariful Islam</td>\n",
       "      <td>শুধু চীন নয়, আরো দেশ থেকে আরো ক্রস বর্ডার পণ্...</td>\n",
       "      <td>Neutral</td>\n",
       "    </tr>\n",
       "    <tr>\n",
       "      <th>945</th>\n",
       "      <td>Tahsin Mahmud</td>\n",
       "      <td>আমি দারাজ মূলকে ভালোবাসি কারণ 10% ক্যাশব্যাক +...</td>\n",
       "      <td>Good</td>\n",
       "    </tr>\n",
       "    <tr>\n",
       "      <th>946</th>\n",
       "      <td>Aishik Mondal</td>\n",
       "      <td>দারাজমল 100% প্রামাণিক পণ্য ডেলিভারি দে .. আইখ...</td>\n",
       "      <td>Good</td>\n",
       "    </tr>\n",
       "    <tr>\n",
       "      <th>947</th>\n",
       "      <td>হিমেল চৌধুরী হিমাদ্রী</td>\n",
       "      <td>আজ অবধি, আল্লাহর রহমতে আমি দারাজ থেকে যতটা সম্...</td>\n",
       "      <td>Good</td>\n",
       "    </tr>\n",
       "    <tr>\n",
       "      <th>948</th>\n",
       "      <td>Kanij Fatema</td>\n",
       "      <td>আগামি 10 বছর একটি দারাজ পৃথীবির পোটাক্তা কোনায...</td>\n",
       "      <td>Neutral</td>\n",
       "    </tr>\n",
       "  </tbody>\n",
       "</table>\n",
       "<p>949 rows × 3 columns</p>\n",
       "</div>"
      ],
      "text/plain": [
       "                            Name  \\\n",
       "0                  Monirul Ahmed   \n",
       "1                    Tanzil Ayon   \n",
       "2               HM Athir Al Azad   \n",
       "3    মোহাম্মদ ইকবাল হোসাইন রুবেল   \n",
       "4                  DrSheikh Rumi   \n",
       "..                           ...   \n",
       "944                 Ariful Islam   \n",
       "945                Tahsin Mahmud   \n",
       "946                Aishik Mondal   \n",
       "947        হিমেল চৌধুরী হিমাদ্রী   \n",
       "948                 Kanij Fatema   \n",
       "\n",
       "                                               Comment      Tag  \n",
       "0    আদৌও কি আমার রিফান্ড পাবো, প্রিয় ই- ভালি?????...      Bad  \n",
       "1    আপনাদের প্রায়োরিটি স্টোর/ T10 এর আগের পণ্য গু...      Bad  \n",
       "2    Order করেছি কিন্তু এখনো নোটিফিকেশন এর মাধ্যমে ...      Bad  \n",
       "3    পেমেন্ট করতে চাইলে নিচের মেসেজ টা শো করছে।আমার...  Neutral  \n",
       "4    msung M01s) এটা ৭ দিনের গ্যারান্টেড ডেলিভারির ...      Bad  \n",
       "..                                                 ...      ...  \n",
       "944  শুধু চীন নয়, আরো দেশ থেকে আরো ক্রস বর্ডার পণ্...  Neutral  \n",
       "945  আমি দারাজ মূলকে ভালোবাসি কারণ 10% ক্যাশব্যাক +...     Good  \n",
       "946  দারাজমল 100% প্রামাণিক পণ্য ডেলিভারি দে .. আইখ...     Good  \n",
       "947  আজ অবধি, আল্লাহর রহমতে আমি দারাজ থেকে যতটা সম্...     Good  \n",
       "948  আগামি 10 বছর একটি দারাজ পৃথীবির পোটাক্তা কোনায...  Neutral  \n",
       "\n",
       "[949 rows x 3 columns]"
      ]
     },
     "execution_count": 11,
     "metadata": {},
     "output_type": "execute_result"
    }
   ],
   "source": [
    "data = pd.read_excel('E-commerce.xlsx')\n",
    "data"
   ]
  },
  {
   "cell_type": "code",
   "execution_count": 12,
   "metadata": {},
   "outputs": [
    {
     "data": {
      "text/html": [
       "<div>\n",
       "<style scoped>\n",
       "    .dataframe tbody tr th:only-of-type {\n",
       "        vertical-align: middle;\n",
       "    }\n",
       "\n",
       "    .dataframe tbody tr th {\n",
       "        vertical-align: top;\n",
       "    }\n",
       "\n",
       "    .dataframe thead th {\n",
       "        text-align: right;\n",
       "    }\n",
       "</style>\n",
       "<table border=\"1\" class=\"dataframe\">\n",
       "  <thead>\n",
       "    <tr style=\"text-align: right;\">\n",
       "      <th></th>\n",
       "      <th>Comment</th>\n",
       "      <th>Tag</th>\n",
       "    </tr>\n",
       "  </thead>\n",
       "  <tbody>\n",
       "    <tr>\n",
       "      <th>0</th>\n",
       "      <td>আদৌও কি আমার রিফান্ড পাবো, প্রিয় ই- ভালি?????...</td>\n",
       "      <td>Bad</td>\n",
       "    </tr>\n",
       "    <tr>\n",
       "      <th>1</th>\n",
       "      <td>আপনাদের প্রায়োরিটি স্টোর/ T10 এর আগের পণ্য গু...</td>\n",
       "      <td>Bad</td>\n",
       "    </tr>\n",
       "    <tr>\n",
       "      <th>2</th>\n",
       "      <td>Order করেছি কিন্তু এখনো নোটিফিকেশন এর মাধ্যমে ...</td>\n",
       "      <td>Bad</td>\n",
       "    </tr>\n",
       "    <tr>\n",
       "      <th>3</th>\n",
       "      <td>পেমেন্ট করতে চাইলে নিচের মেসেজ টা শো করছে।আমার...</td>\n",
       "      <td>Neutral</td>\n",
       "    </tr>\n",
       "    <tr>\n",
       "      <th>4</th>\n",
       "      <td>msung M01s) এটা ৭ দিনের গ্যারান্টেড ডেলিভারির ...</td>\n",
       "      <td>Bad</td>\n",
       "    </tr>\n",
       "    <tr>\n",
       "      <th>...</th>\n",
       "      <td>...</td>\n",
       "      <td>...</td>\n",
       "    </tr>\n",
       "    <tr>\n",
       "      <th>944</th>\n",
       "      <td>শুধু চীন নয়, আরো দেশ থেকে আরো ক্রস বর্ডার পণ্...</td>\n",
       "      <td>Neutral</td>\n",
       "    </tr>\n",
       "    <tr>\n",
       "      <th>945</th>\n",
       "      <td>আমি দারাজ মূলকে ভালোবাসি কারণ 10% ক্যাশব্যাক +...</td>\n",
       "      <td>Good</td>\n",
       "    </tr>\n",
       "    <tr>\n",
       "      <th>946</th>\n",
       "      <td>দারাজমল 100% প্রামাণিক পণ্য ডেলিভারি দে .. আইখ...</td>\n",
       "      <td>Good</td>\n",
       "    </tr>\n",
       "    <tr>\n",
       "      <th>947</th>\n",
       "      <td>আজ অবধি, আল্লাহর রহমতে আমি দারাজ থেকে যতটা সম্...</td>\n",
       "      <td>Good</td>\n",
       "    </tr>\n",
       "    <tr>\n",
       "      <th>948</th>\n",
       "      <td>আগামি 10 বছর একটি দারাজ পৃথীবির পোটাক্তা কোনায...</td>\n",
       "      <td>Neutral</td>\n",
       "    </tr>\n",
       "  </tbody>\n",
       "</table>\n",
       "<p>949 rows × 2 columns</p>\n",
       "</div>"
      ],
      "text/plain": [
       "                                               Comment      Tag\n",
       "0    আদৌও কি আমার রিফান্ড পাবো, প্রিয় ই- ভালি?????...      Bad\n",
       "1    আপনাদের প্রায়োরিটি স্টোর/ T10 এর আগের পণ্য গু...      Bad\n",
       "2    Order করেছি কিন্তু এখনো নোটিফিকেশন এর মাধ্যমে ...      Bad\n",
       "3    পেমেন্ট করতে চাইলে নিচের মেসেজ টা শো করছে।আমার...  Neutral\n",
       "4    msung M01s) এটা ৭ দিনের গ্যারান্টেড ডেলিভারির ...      Bad\n",
       "..                                                 ...      ...\n",
       "944  শুধু চীন নয়, আরো দেশ থেকে আরো ক্রস বর্ডার পণ্...  Neutral\n",
       "945  আমি দারাজ মূলকে ভালোবাসি কারণ 10% ক্যাশব্যাক +...     Good\n",
       "946  দারাজমল 100% প্রামাণিক পণ্য ডেলিভারি দে .. আইখ...     Good\n",
       "947  আজ অবধি, আল্লাহর রহমতে আমি দারাজ থেকে যতটা সম্...     Good\n",
       "948  আগামি 10 বছর একটি দারাজ পৃথীবির পোটাক্তা কোনায...  Neutral\n",
       "\n",
       "[949 rows x 2 columns]"
      ]
     },
     "execution_count": 12,
     "metadata": {},
     "output_type": "execute_result"
    }
   ],
   "source": [
    "data = data.drop(columns=['Name'])\n",
    "data"
   ]
  },
  {
   "cell_type": "code",
   "execution_count": 13,
   "metadata": {},
   "outputs": [],
   "source": [
    "data.Tag = data.Tag.replace({'Good':'Positive','Bad':'Negative'})"
   ]
  },
  {
   "cell_type": "code",
   "execution_count": 14,
   "metadata": {
    "colab": {
     "base_uri": "https://localhost:8080/",
     "height": 126
    },
    "colab_type": "code",
    "executionInfo": {
     "elapsed": 3332,
     "status": "ok",
     "timestamp": 1596395797009,
     "user": {
      "displayName": "EFTEKHAR HOSSAIN 1308006",
      "photoUrl": "https://lh3.googleusercontent.com/a-/AOh14GhB_S2SahlIoGyzj581ugCWrrC6Yl1l6BBILkt0=s64",
      "userId": "05840817180100570187"
     },
     "user_tz": -360
    },
    "id": "mGjQAUYxeKqv",
    "outputId": "f9a931bb-f61b-484a-fd3c-920e7f38598a"
   },
   "outputs": [
    {
     "name": "stdout",
     "output_type": "stream",
     "text": [
      "Total Reviews: 949 \n",
      "Total Positive Reviews: 364 \n",
      "Total Neutral Reviews: 183 \n",
      "Total Negative Reviews: 401\n"
     ]
    }
   ],
   "source": [
    "print(\"Total Reviews:\",len(data),\n",
    "      \"\\nTotal Positive Reviews:\",len(data[data.Tag=='Positive']),\n",
    "      \"\\nTotal Neutral Reviews:\",len(data[data.Tag=='Neutral']),\n",
    "      \"\\nTotal Negative Reviews:\",len(data[data.Tag=='Negative']))"
   ]
  },
  {
   "cell_type": "code",
   "execution_count": 15,
   "metadata": {
    "colab": {
     "base_uri": "https://localhost:8080/",
     "height": 332
    },
    "colab_type": "code",
    "executionInfo": {
     "elapsed": 1166,
     "status": "ok",
     "timestamp": 1596396692460,
     "user": {
      "displayName": "EFTEKHAR HOSSAIN 1308006",
      "photoUrl": "https://lh3.googleusercontent.com/a-/AOh14GhB_S2SahlIoGyzj581ugCWrrC6Yl1l6BBILkt0=s64",
      "userId": "05840817180100570187"
     },
     "user_tz": -360
    },
    "id": "0LuAApeNmsF_",
    "outputId": "c92704d1-48ed-4bb2-d484-987b5ea22d49",
    "scrolled": true
   },
   "outputs": [
    {
     "data": {
      "image/png": "[encoded data removed]",
      "text/plain": [
       "<Figure size 432x288 with 1 Axes>"
      ]
     },
     "metadata": {},
     "output_type": "display_data"
    }
   ],
   "source": [
    "sns.set(font_scale=1.4)\n",
    "data['Tag'].value_counts().plot(kind='barh', figsize=(6, 4))\n",
    "plt.xlabel(\"Number of Comments\", labelpad=12)\n",
    "plt.ylabel(\"Sentiment Class\", labelpad=12)\n",
    "plt.title(\"Dataset Distribution\", y=1.02);"
   ]
  },
  {
   "cell_type": "code",
   "execution_count": 16,
   "metadata": {
    "colab": {
     "base_uri": "https://localhost:8080/",
     "height": 910
    },
    "colab_type": "code",
    "executionInfo": {
     "elapsed": 1411,
     "status": "ok",
     "timestamp": 1596063446791,
     "user": {
      "displayName": "EFTEKHAR HOSSAIN 1308006",
      "photoUrl": "https://lh3.googleusercontent.com/a-/AOh14GhB_S2SahlIoGyzj581ugCWrrC6Yl1l6BBILkt0=s64",
      "userId": "05840817180100570187"
     },
     "user_tz": -360
    },
    "id": "B_cQb9MOfIb4",
    "outputId": "6b89ebf6-3df8-4137-edc2-131631a89272"
   },
   "outputs": [
    {
     "name": "stdout",
     "output_type": "stream",
     "text": [
      "EVL247615915  ভাই Walton কি পন্য ডেলিভারি করে না?????????  Walton কি ব্যাবসা বন্ধ করে দিয়েছে??????? আপনাদের পেইজে শুধু  Jamuna Jamuna Jamuna Jamuna..   Walton কই গেল। পালিয়ে গেছে নাকি???? \n",
      " Sentiment:--  Negative \n",
      "\n",
      "EVL850309190 মে এর ১ তারিখের বাটা কার্ডটা এখনো পেলাম না, কেউ ক দেখবেন? \n",
      " Sentiment:--  Negative \n",
      "\n",
      ". t10 এর অর্ডার।  ১০% পেমেন্ট করছি কিন্তু পরবর্তী ৯০% পেমেন্ট করতে পারছিনা। অ্যাপ আপডেট করার পরও পেমেন্ট করতে পারতেছি না। এখন কি করব??????? \n",
      " Sentiment:--  Negative \n",
      "\n",
      "Invoice: EVL576007949  আপনাদের কি কথার কোনো মূল্য নেই ?? প্রায় ৬ মাস হয়ে গিয়েছে প্রোডাক্টটি পেলাম না ৪৫ কার্যদিবস হওয়ার ১ মাসের ও বেশি সময় পর জানিয়েছেন যে রিফান্ড দেয়া হবে আপনাদের রিফান্ড এর কার্যদিবস ৩০ দিন সেটা ও হয়ে গিয়েছে আমার এখনো এনলিস্টেড ই হয় নি  আর কত সময় লাগবে আপনাদের ?? একটু দ্রুত রিফান্ডটি দিন খুব সমস্যার ভিতরে আছি \n",
      " Sentiment:--  Negative \n",
      "\n",
      "আগে আমাদের রিমান্ডের টাকা গুলো দিয়ে দেন, আর কত সময় নিবিন.... \n",
      " Sentiment:--  Negative \n",
      "\n",
      "বাকি ৯০% তো প্রোডাক্ট হাতে পেয়ে পরে পে করতে হবে? এখন বলতেছেন আগেই... বুঝলাম না বিষয়টা... \n",
      " Sentiment:--  Negative \n",
      "\n",
      "ইভেলি জোস \n",
      " Sentiment:--  Positive \n",
      "\n",
      "এই ভাবে যদি প্রাইরিটি কে অগ্রধিকার দেন। তাহলে ব্যবসা ও ওভাবে হবে। \n",
      " Sentiment:--  Negative \n",
      "\n",
      "গত ৩রা ফেব্রুয়ারী  ধানমন্ডি মিনাক্লিক এ অর্ডার দেওয়া, ৭৬ কার্যদিবস পর, ৩০মে অর্ডার mrp রিফান্ড হবে বলে, রিফান্ড পলিসি সিলেক্ট করলাম।আজকে ১মাস পার হলেও কোন রিফান্ড পেলাম না। ২৭ ফেব্রুয়ারী৷ গেজেট এন্ড গেজেট থেকে একটা শাওমি ইমিল্যাব অর্ডার করি,১৯ জুন মাত্র ২৫০ টাকা এপিলজি টাকা দিয়ে রিফান্ড করে,৬২ কার্যদিবস ওয়েট করেও mrp রিফান্ড দিল না।আর রিফান্ড ক্যটাগরি সিলেক্ট করেও এখনো কোন আপডেট নাই। ৬মার্চ  ১ মাস হল এখনো সেই টাকা দেই নাই। (অক্টপাস স্ট্রিমলান্ড),  #EVL967684290,(ওয়াল্টন) থেকে ১০এপ্রিল এ অর্ডার দেওয়া।৫৬ কার্যদিবস শেষ এখনো প্রডাক্ট পাই নাই।এগুলা কবে পাব।ইস্যু করছি,মেইল পাঠাইছি,তবু কোন ব্যবস্থা নাই।  কোন ডেলিভারি ম্যন ই ইস্যু হয় নাই।এটাও কবে পাব। (আগরা শ্যামলি,) (ধানমন্ডি মিনাক্লিক),  (মেট্রো মোহাম্মদপুর)  থেকে ঈদ গ্রসারী সাইক্লন এ অর্ডার দেওয়া, ঈদের মশল্লা, সেমাই ইত্যাদি। আশাকরি এগুলো ঈদের আগে ডেলিভারি দেওয়া হবে ইভ্যলি তে আরো , , , , , , , , , ,  এই প্রডাক্ট গুলো অর্ডার দেওয়া।সঠিক সময় যেন ডেলিভারি পাই, সে অনুরোধ জানাচ্ছি। সাইক্লোন এ অনেক প্রডাক্ট পেয়েছি, যার জন্য সাইক্লোন কে অনেক বেশি মিস করব। কিন্তু ইভ্যলির এরকম প্রডাক্ট ৪৫ দিন না দিয়েও, mrp রিফান্ড না করা কোন ভাবেই কাম্য নয়।গ্রাহক দের ঠিল মত সেবা দিলে, ইভ্যলি আজকে এই বাটে পরত না। \n",
      " Sentiment:--  Negative \n",
      "\n",
      "#27-06-2021 তারিখে ডেলিভারি দেওয়ার  কথা এখনও দেয়নাই আমার  পার্সেল টা  ম্যানের হাতে পৌছানোর পরেও আমার পার্সেল টা আমার হাতে   ডেলিভারি ম্যান আমাকে ফোন না দিয়েই  বলে আমার ফোন নাকি অফ। আমি অনেক বার ফোন করি ডেলিভারি ম্যানের ফোনটা এখনও অফ করে রাখছে। আমি অনেক মেসেজ দিলাম দারাজ কে কোন  সঠিক পরামর্শ পায়নি আশা করি এইবার সঠিক উওর পাব। \n",
      " Sentiment:--  Negative \n",
      "\n",
      "থানা+জেলা পর্যায়ে দারাজ প্রতিনিধির নাম্বার ওপেন করে দিন যাতে সব গ্রাহক সরাসরি কথা বলতে পারে তাহলে আরো সহজ হবে,কারন দারাজ প্রতিনিধির নাম্বার সব সময় বিজি দেখাই। \n",
      " Sentiment:--  Neutral \n",
      "\n",
      "আমার পণ্য না নিয়েই টাকা রিফান্ড করে দিয়েছে। এখন প্রায় ১মাস হতে চললো।প্রডাক্ট নেয়ার কোন নাম নাই। কিভাবে প্রডাক্ট ফেরত দিব? \n",
      " Sentiment:--  Negative \n",
      "\n",
      "আমার বিকাশ অ্যাকাউন্ট নাম্বার দিয়ে আমি দারাজের পণ্য কিনতে পারি না কারণ আমার বিকাশ একাউন্টে নাম্বারটি  অন্য একটা একাউন্টে বিন্ড করা আছে এখন আমি কিভাবে আমার বিকাশ একাউন্টে আমার দারাজ একাউন্টে নিয়ে আসব \n",
      " Sentiment:--  Negative \n",
      "\n",
      "EVL117727630 EVL799409255 এই প্রোডাক্টটি কি পাবো না, কবে পাবো একটু বলবেন। নোট করে রাখেন \n",
      " Sentiment:--  Negative \n",
      "\n",
      "EVL195605998 আর কয় বছর লাগবে..?? \n",
      " Sentiment:--  Negative \n",
      "\n",
      "দারাজ খুব ভাল সার্ভিস দিতেছে খালি একটু লেট \n",
      " Sentiment:--  Positive \n",
      "\n",
      "আমি তো ২৮ দিনে ডেলিভারি পেয়েগেছি \n",
      " Sentiment:--  Positive \n",
      "\n",
      "আমি তো ২৮ দিনে ডেলিভারি পেয়েগেছি \n",
      " Sentiment:--  Positive \n",
      "\n",
      "ভালো উদ্যোগ \n",
      " Sentiment:--  Positive \n",
      "\n",
      "নতুন ইউজার ২৫% ছাড় এর সাথে খেলা চলাকালীন SHAKIB75 ভাউচারটি ইউজ করতে পারবে? \n",
      " Sentiment:--  Neutral \n",
      "\n",
      "ধন্যবাদ \n",
      " Sentiment:--  Positive \n",
      "\n",
      "একদম নিখুঁত, আমি সর্বদা ডেরাজ থেকে পণ্য কিনতে পেরে খুশি, আমি অবশ্যই বারবার কেনাকাটা করব, এটি কেনাকাটা করার জন্য সেরা দিক \n",
      " Sentiment:--  Positive \n",
      "\n"
     ]
    }
   ],
   "source": [
    "# print some unprocessed reviews\n",
    "sample_data = [10, 20, 30, 40, 50, 100, 150, 200, 250, 300, 350, 400, 450, 500, 550, 600, 650, 700, 750, 800, 850, 900]\n",
    "for i in sample_data:\n",
    "    print(data.Comment[i],'\\n','Sentiment:-- ',data.Tag[i],'\\n')  "
   ]
  },
  {
   "cell_type": "markdown",
   "metadata": {
    "colab_type": "text",
    "id": "P_9Dt_CRfdez"
   },
   "source": [
    "## Data Cleaning"
   ]
  },
  {
   "cell_type": "code",
   "execution_count": 18,
   "metadata": {
    "colab": {},
    "colab_type": "code",
    "executionInfo": {
     "elapsed": 942,
     "status": "ok",
     "timestamp": 1596396629556,
     "user": {
      "displayName": "EFTEKHAR HOSSAIN 1308006",
      "photoUrl": "https://lh3.googleusercontent.com/a-/AOh14GhB_S2SahlIoGyzj581ugCWrrC6Yl1l6BBILkt0=s64",
      "userId": "05840817180100570187"
     },
     "user_tz": -360
    },
    "id": "8-fQhDVnffoX"
   },
   "outputs": [],
   "source": [
    "def process_comments(comment): \n",
    "    comment = re.sub('[^\\u0980-\\u09FF]',' ',str(comment)) #removing unnecessary punctuation\n",
    "    return comment"
   ]
  },
  {
   "cell_type": "code",
   "execution_count": 19,
   "metadata": {
    "colab": {
     "base_uri": "https://localhost:8080/",
     "height": 1000
    },
    "colab_type": "code",
    "executionInfo": {
     "elapsed": 901,
     "status": "ok",
     "timestamp": 1596396653679,
     "user": {
      "displayName": "EFTEKHAR HOSSAIN 1308006",
      "photoUrl": "https://lh3.googleusercontent.com/a-/AOh14GhB_S2SahlIoGyzj581ugCWrrC6Yl1l6BBILkt0=s64",
      "userId": "05840817180100570187"
     },
     "user_tz": -360
    },
    "id": "5VSrSJ1zgPTv",
    "outputId": "219588fa-ae9d-4af4-afe9-e0679a40e3c1",
    "scrolled": false
   },
   "outputs": [
    {
     "name": "stdout",
     "output_type": "stream",
     "text": [
      "Original:\n",
      " EVL247615915  ভাই Walton কি পন্য ডেলিভারি করে না?????????  Walton কি ব্যাবসা বন্ধ করে দিয়েছে??????? আপনাদের পেইজে শুধু  Jamuna Jamuna Jamuna Jamuna..   Walton কই গেল। পালিয়ে গেছে নাকি???? \n",
      "Cleaned:\n",
      "               ভাই        কি পন্য ডেলিভারি করে না                  কি ব্যাবসা বন্ধ করে দিয়েছে        আপনাদের পেইজে শুধু                                         কই গেল  পালিয়ে গেছে নাকি     \n",
      " Sentiment:--  Negative \n",
      "\n",
      "Original:\n",
      " EVL850309190 মে এর ১ তারিখের বাটা কার্ডটা এখনো পেলাম না, কেউ ক দেখবেন? \n",
      "Cleaned:\n",
      "              মে এর ১ তারিখের বাটা কার্ডটা এখনো পেলাম না  কেউ ক দেখবেন  \n",
      " Sentiment:--  Negative \n",
      "\n",
      "Original:\n",
      " . t10 এর অর্ডার।  ১০% পেমেন্ট করছি কিন্তু পরবর্তী ৯০% পেমেন্ট করতে পারছিনা। অ্যাপ আপডেট করার পরও পেমেন্ট করতে পারতেছি না। এখন কি করব??????? \n",
      "Cleaned:\n",
      "       এর অর্ডার   ১০  পেমেন্ট করছি কিন্তু পরবর্তী ৯০  পেমেন্ট করতে পারছিনা  অ্যাপ আপডেট করার পরও পেমেন্ট করতে পারতেছি না  এখন কি করব        \n",
      " Sentiment:--  Negative \n",
      "\n",
      "Original:\n",
      " Invoice: EVL576007949  আপনাদের কি কথার কোনো মূল্য নেই ?? প্রায় ৬ মাস হয়ে গিয়েছে প্রোডাক্টটি পেলাম না ৪৫ কার্যদিবস হওয়ার ১ মাসের ও বেশি সময় পর জানিয়েছেন যে রিফান্ড দেয়া হবে আপনাদের রিফান্ড এর কার্যদিবস ৩০ দিন সেটা ও হয়ে গিয়েছে আমার এখনো এনলিস্টেড ই হয় নি  আর কত সময় লাগবে আপনাদের ?? একটু দ্রুত রিফান্ডটি দিন খুব সমস্যার ভিতরে আছি \n",
      "Cleaned:\n",
      "                        আপনাদের কি কথার কোনো মূল্য নেই    প্রায় ৬ মাস হয়ে গিয়েছে প্রোডাক্টটি পেলাম না ৪৫ কার্যদিবস হওয়ার ১ মাসের ও বেশি সময় পর জানিয়েছেন যে রিফান্ড দেয়া হবে আপনাদের রিফান্ড এর কার্যদিবস ৩০ দিন সেটা ও হয়ে গিয়েছে আমার এখনো এনলিস্টেড ই হয় নি  আর কত সময় লাগবে আপনাদের    একটু দ্রুত রিফান্ডটি দিন খুব সমস্যার ভিতরে আছি \n",
      " Sentiment:--  Negative \n",
      "\n",
      "Original:\n",
      " আগে আমাদের রিমান্ডের টাকা গুলো দিয়ে দেন, আর কত সময় নিবিন.... \n",
      "Cleaned:\n",
      " আগে আমাদের রিমান্ডের টাকা গুলো দিয়ে দেন  আর কত সময় নিবিন     \n",
      " Sentiment:--  Negative \n",
      "\n",
      "Original:\n",
      " বাকি ৯০% তো প্রোডাক্ট হাতে পেয়ে পরে পে করতে হবে? এখন বলতেছেন আগেই... বুঝলাম না বিষয়টা... \n",
      "Cleaned:\n",
      " বাকি ৯০  তো প্রোডাক্ট হাতে পেয়ে পরে পে করতে হবে  এখন বলতেছেন আগেই    বুঝলাম না বিষয়টা    \n",
      " Sentiment:--  Negative \n",
      "\n",
      "Original:\n",
      " ইভেলি জোস \n",
      "Cleaned:\n",
      " ইভেলি জোস \n",
      " Sentiment:--  Positive \n",
      "\n",
      "Original:\n",
      " এই ভাবে যদি প্রাইরিটি কে অগ্রধিকার দেন। তাহলে ব্যবসা ও ওভাবে হবে। \n",
      "Cleaned:\n",
      " এই ভাবে যদি প্রাইরিটি কে অগ্রধিকার দেন  তাহলে ব্যবসা ও ওভাবে হবে  \n",
      " Sentiment:--  Negative \n",
      "\n",
      "Original:\n",
      " গত ৩রা ফেব্রুয়ারী  ধানমন্ডি মিনাক্লিক এ অর্ডার দেওয়া, ৭৬ কার্যদিবস পর, ৩০মে অর্ডার mrp রিফান্ড হবে বলে, রিফান্ড পলিসি সিলেক্ট করলাম।আজকে ১মাস পার হলেও কোন রিফান্ড পেলাম না। ২৭ ফেব্রুয়ারী৷ গেজেট এন্ড গেজেট থেকে একটা শাওমি ইমিল্যাব অর্ডার করি,১৯ জুন মাত্র ২৫০ টাকা এপিলজি টাকা দিয়ে রিফান্ড করে,৬২ কার্যদিবস ওয়েট করেও mrp রিফান্ড দিল না।আর রিফান্ড ক্যটাগরি সিলেক্ট করেও এখনো কোন আপডেট নাই। ৬মার্চ  ১ মাস হল এখনো সেই টাকা দেই নাই। (অক্টপাস স্ট্রিমলান্ড),  #EVL967684290,(ওয়াল্টন) থেকে ১০এপ্রিল এ অর্ডার দেওয়া।৫৬ কার্যদিবস শেষ এখনো প্রডাক্ট পাই নাই।এগুলা কবে পাব।ইস্যু করছি,মেইল পাঠাইছি,তবু কোন ব্যবস্থা নাই।  কোন ডেলিভারি ম্যন ই ইস্যু হয় নাই।এটাও কবে পাব। (আগরা শ্যামলি,) (ধানমন্ডি মিনাক্লিক),  (মেট্রো মোহাম্মদপুর)  থেকে ঈদ গ্রসারী সাইক্লন এ অর্ডার দেওয়া, ঈদের মশল্লা, সেমাই ইত্যাদি। আশাকরি এগুলো ঈদের আগে ডেলিভারি দেওয়া হবে ইভ্যলি তে আরো , , , , , , , , , ,  এই প্রডাক্ট গুলো অর্ডার দেওয়া।সঠিক সময় যেন ডেলিভারি পাই, সে অনুরোধ জানাচ্ছি। সাইক্লোন এ অনেক প্রডাক্ট পেয়েছি, যার জন্য সাইক্লোন কে অনেক বেশি মিস করব। কিন্তু ইভ্যলির এরকম প্রডাক্ট ৪৫ দিন না দিয়েও, mrp রিফান্ড না করা কোন ভাবেই কাম্য নয়।গ্রাহক দের ঠিল মত সেবা দিলে, ইভ্যলি আজকে এই বাটে পরত না। \n",
      "Cleaned:\n",
      " গত ৩রা ফেব্রুয়ারী  ধানমন্ডি মিনাক্লিক এ অর্ডার দেওয়া  ৭৬ কার্যদিবস পর  ৩০মে অর্ডার     রিফান্ড হবে বলে  রিফান্ড পলিসি সিলেক্ট করলাম আজকে ১মাস পার হলেও কোন রিফান্ড পেলাম না  ২৭ ফেব্রুয়ারী৷ গেজেট এন্ড গেজেট থেকে একটা শাওমি ইমিল্যাব অর্ডার করি ১৯ জুন মাত্র ২৫০ টাকা এপিলজি টাকা দিয়ে রিফান্ড করে ৬২ কার্যদিবস ওয়েট করেও     রিফান্ড দিল না আর রিফান্ড ক্যটাগরি সিলেক্ট করেও এখনো কোন আপডেট নাই  ৬মার্চ  ১ মাস হল এখনো সেই টাকা দেই নাই   অক্টপাস স্ট্রিমলান্ড                   ওয়াল্টন  থেকে ১০এপ্রিল এ অর্ডার দেওয়া ৫৬ কার্যদিবস শেষ এখনো প্রডাক্ট পাই নাই এগুলা কবে পাব ইস্যু করছি মেইল পাঠাইছি তবু কোন ব্যবস্থা নাই   কোন ডেলিভারি ম্যন ই ইস্যু হয় নাই এটাও কবে পাব   আগরা শ্যামলি    ধানমন্ডি মিনাক্লিক     মেট্রো মোহাম্মদপুর   থেকে ঈদ গ্রসারী সাইক্লন এ অর্ডার দেওয়া  ঈদের মশল্লা  সেমাই ইত্যাদি  আশাকরি এগুলো ঈদের আগে ডেলিভারি দেওয়া হবে ইভ্যলি তে আরো                      এই প্রডাক্ট গুলো অর্ডার দেওয়া সঠিক সময় যেন ডেলিভারি পাই  সে অনুরোধ জানাচ্ছি  সাইক্লোন এ অনেক প্রডাক্ট পেয়েছি  যার জন্য সাইক্লোন কে অনেক বেশি মিস করব  কিন্তু ইভ্যলির এরকম প্রডাক্ট ৪৫ দিন না দিয়েও      রিফান্ড না করা কোন ভাবেই কাম্য নয় গ্রাহক দের ঠিল মত সেবা দিলে  ইভ্যলি আজকে এই বাটে পরত না  \n",
      " Sentiment:--  Negative \n",
      "\n",
      "Original:\n",
      " #27-06-2021 তারিখে ডেলিভারি দেওয়ার  কথা এখনও দেয়নাই আমার  পার্সেল টা  ম্যানের হাতে পৌছানোর পরেও আমার পার্সেল টা আমার হাতে   ডেলিভারি ম্যান আমাকে ফোন না দিয়েই  বলে আমার ফোন নাকি অফ। আমি অনেক বার ফোন করি ডেলিভারি ম্যানের ফোনটা এখনও অফ করে রাখছে। আমি অনেক মেসেজ দিলাম দারাজ কে কোন  সঠিক পরামর্শ পায়নি আশা করি এইবার সঠিক উওর পাব। \n",
      "Cleaned:\n",
      "             তারিখে ডেলিভারি দেওয়ার  কথা এখনও দেয়নাই আমার  পার্সেল টা  ম্যানের হাতে পৌছানোর পরেও আমার পার্সেল টা আমার হাতে   ডেলিভারি ম্যান আমাকে ফোন না দিয়েই  বলে আমার ফোন নাকি অফ  আমি অনেক বার ফোন করি ডেলিভারি ম্যানের ফোনটা এখনও অফ করে রাখছে  আমি অনেক মেসেজ দিলাম দারাজ কে কোন  সঠিক পরামর্শ পায়নি আশা করি এইবার সঠিক উওর পাব  \n",
      " Sentiment:--  Negative \n",
      "\n",
      "Original:\n",
      " থানা+জেলা পর্যায়ে দারাজ প্রতিনিধির নাম্বার ওপেন করে দিন যাতে সব গ্রাহক সরাসরি কথা বলতে পারে তাহলে আরো সহজ হবে,কারন দারাজ প্রতিনিধির নাম্বার সব সময় বিজি দেখাই। \n",
      "Cleaned:\n",
      " থানা জেলা পর্যায়ে দারাজ প্রতিনিধির নাম্বার ওপেন করে দিন যাতে সব গ্রাহক সরাসরি কথা বলতে পারে তাহলে আরো সহজ হবে কারন দারাজ প্রতিনিধির নাম্বার সব সময় বিজি দেখাই  \n",
      " Sentiment:--  Neutral \n",
      "\n",
      "Original:\n",
      " আমার পণ্য না নিয়েই টাকা রিফান্ড করে দিয়েছে। এখন প্রায় ১মাস হতে চললো।প্রডাক্ট নেয়ার কোন নাম নাই। কিভাবে প্রডাক্ট ফেরত দিব? \n",
      "Cleaned:\n",
      " আমার পণ্য না নিয়েই টাকা রিফান্ড করে দিয়েছে  এখন প্রায় ১মাস হতে চললো প্রডাক্ট নেয়ার কোন নাম নাই  কিভাবে প্রডাক্ট ফেরত দিব  \n",
      " Sentiment:--  Negative \n",
      "\n",
      "Original:\n",
      " আমার বিকাশ অ্যাকাউন্ট নাম্বার দিয়ে আমি দারাজের পণ্য কিনতে পারি না কারণ আমার বিকাশ একাউন্টে নাম্বারটি  অন্য একটা একাউন্টে বিন্ড করা আছে এখন আমি কিভাবে আমার বিকাশ একাউন্টে আমার দারাজ একাউন্টে নিয়ে আসব \n",
      "Cleaned:\n",
      " আমার বিকাশ অ্যাকাউন্ট নাম্বার দিয়ে আমি দারাজের পণ্য কিনতে পারি না কারণ আমার বিকাশ একাউন্টে নাম্বারটি  অন্য একটা একাউন্টে বিন্ড করা আছে এখন আমি কিভাবে আমার বিকাশ একাউন্টে আমার দারাজ একাউন্টে নিয়ে আসব \n",
      " Sentiment:--  Negative \n",
      "\n",
      "Original:\n",
      " EVL117727630 EVL799409255 এই প্রোডাক্টটি কি পাবো না, কবে পাবো একটু বলবেন। নোট করে রাখেন \n",
      "Cleaned:\n",
      "                           এই প্রোডাক্টটি কি পাবো না  কবে পাবো একটু বলবেন  নোট করে রাখেন \n",
      " Sentiment:--  Negative \n",
      "\n",
      "Original:\n",
      " EVL195605998 আর কয় বছর লাগবে..?? \n",
      "Cleaned:\n",
      "              আর কয় বছর লাগবে     \n",
      " Sentiment:--  Negative \n",
      "\n",
      "Original:\n",
      " দারাজ খুব ভাল সার্ভিস দিতেছে খালি একটু লেট \n",
      "Cleaned:\n",
      " দারাজ খুব ভাল সার্ভিস দিতেছে খালি একটু লেট \n",
      " Sentiment:--  Positive \n",
      "\n",
      "Original:\n",
      " আমি তো ২৮ দিনে ডেলিভারি পেয়েগেছি \n",
      "Cleaned:\n",
      " আমি তো ২৮ দিনে ডেলিভারি পেয়েগেছি \n",
      " Sentiment:--  Positive \n",
      "\n",
      "Original:\n",
      " আমি তো ২৮ দিনে ডেলিভারি পেয়েগেছি \n",
      "Cleaned:\n",
      " আমি তো ২৮ দিনে ডেলিভারি পেয়েগেছি \n",
      " Sentiment:--  Positive \n",
      "\n",
      "Original:\n",
      " ভালো উদ্যোগ \n",
      "Cleaned:\n",
      " ভালো উদ্যোগ \n",
      " Sentiment:--  Positive \n",
      "\n",
      "Original:\n",
      " নতুন ইউজার ২৫% ছাড় এর সাথে খেলা চলাকালীন SHAKIB75 ভাউচারটি ইউজ করতে পারবে? \n",
      "Cleaned:\n",
      " নতুন ইউজার ২৫  ছাড় এর সাথে খেলা চলাকালীন          ভাউচারটি ইউজ করতে পারবে  \n",
      " Sentiment:--  Neutral \n",
      "\n",
      "Original:\n",
      " ধন্যবাদ \n",
      "Cleaned:\n",
      " ধন্যবাদ \n",
      " Sentiment:--  Positive \n",
      "\n",
      "Original:\n",
      " একদম নিখুঁত, আমি সর্বদা ডেরাজ থেকে পণ্য কিনতে পেরে খুশি, আমি অবশ্যই বারবার কেনাকাটা করব, এটি কেনাকাটা করার জন্য সেরা দিক \n",
      "Cleaned:\n",
      " একদম নিখুঁত  আমি সর্বদা ডেরাজ থেকে পণ্য কিনতে পেরে খুশি  আমি অবশ্যই বারবার কেনাকাটা করব  এটি কেনাকাটা করার জন্য সেরা দিক \n",
      " Sentiment:--  Positive \n",
      "\n"
     ]
    }
   ],
   "source": [
    "data['cleaned'] = data['Comment'].apply(process_comments)  \n",
    "sample_data = [10, 20, 30, 40, 50, 100, 150, 200, 250, 300, 350, 400, 450, 500, 550, 600, 650, 700, 750, 800, 850, 900]\n",
    "for i in sample_data:\n",
    "     print('Original:\\n',data.Comment[i],'\\nCleaned:\\n',\n",
    "           data.cleaned[i],'\\n','Sentiment:-- ',data.Tag[i],'\\n')"
   ]
  },
  {
   "cell_type": "markdown",
   "metadata": {
    "colab_type": "text",
    "id": "x_G4vHGsjyXt"
   },
   "source": [
    "## Remove Low lenght data"
   ]
  },
  {
   "cell_type": "code",
   "execution_count": 20,
   "metadata": {
    "colab": {
     "base_uri": "https://localhost:8080/",
     "height": 72
    },
    "colab_type": "code",
    "executionInfo": {
     "elapsed": 1068,
     "status": "ok",
     "timestamp": 1596396661006,
     "user": {
      "displayName": "EFTEKHAR HOSSAIN 1308006",
      "photoUrl": "https://lh3.googleusercontent.com/a-/AOh14GhB_S2SahlIoGyzj581ugCWrrC6Yl1l6BBILkt0=s64",
      "userId": "05840817180100570187"
     },
     "user_tz": -360
    },
    "id": "U_l7GWutj1gu",
    "outputId": "3224bb68-23d6-46ba-ce38-72e8c5f7243e"
   },
   "outputs": [
    {
     "name": "stdout",
     "output_type": "stream",
     "text": [
      "After Cleaning: \n",
      "Removed 97 Small Reviews \n",
      "Total Reviews: 852\n"
     ]
    }
   ],
   "source": [
    "# Length of each Reveiws\n",
    "data['length'] = data['cleaned'].apply(lambda x:len(x.split()))\n",
    "# Remove the reviews with least words\n",
    "dataset = data.loc[data.length>2]\n",
    "dataset = dataset.reset_index(drop = True)\n",
    "print(\"After Cleaning:\",\"\\nRemoved {} Small Reviews\".format(len(data)-len(dataset)),\n",
    "      \"\\nTotal Reviews:\",len(dataset))"
   ]
  },
  {
   "cell_type": "markdown",
   "metadata": {
    "colab_type": "text",
    "id": "LDC0c6EHhnY2"
   },
   "source": [
    "## Dataset Summary"
   ]
  },
  {
   "cell_type": "code",
   "execution_count": 21,
   "metadata": {
    "colab": {
     "base_uri": "https://localhost:8080/",
     "height": 1000
    },
    "colab_type": "code",
    "executionInfo": {
     "elapsed": 1826,
     "status": "ok",
     "timestamp": 1596220284057,
     "user": {
      "displayName": "EFTEKHAR HOSSAIN 1308006",
      "photoUrl": "https://lh3.googleusercontent.com/a-/AOh14GhB_S2SahlIoGyzj581ugCWrrC6Yl1l6BBILkt0=s64",
      "userId": "05840817180100570187"
     },
     "user_tz": -360
    },
    "id": "0gvw8gwkhqPQ",
    "outputId": "dce039f9-fe95-41c6-8f44-b95dcd10050c"
   },
   "outputs": [
    {
     "name": "stdout",
     "output_type": "stream",
     "text": [
      "\n",
      "Class Name :  Negative\n",
      "Number of Documents:391\n",
      "Number of Words:8227\n",
      "Number of Unique Words:1732\n",
      "Most Frequent Words:\n",
      "\n",
      "না\t218\n",
      "অর্ডার\t127\n",
      "করে\t117\n",
      "ডেলিভারি\t99\n",
      "কি\t93\n",
      "নাই\t89\n",
      "আর\t84\n",
      "দিন\t84\n",
      "আমি\t84\n",
      "রিফান্ড\t83\n",
      "\n",
      "Class Name :  Positive\n",
      "Number of Documents:303\n",
      "Number of Words:3276\n",
      "Number of Unique Words:648\n",
      "Most Frequent Words:\n",
      "\n",
      "দারাজ\t102\n",
      "আমি\t92\n",
      "সাথে\t52\n",
      "রিটার্ন\t50\n",
      "এ\t50\n",
      "কোন\t49\n",
      "এটা\t49\n",
      "ডেলিভারি\t47\n",
      "ভালো\t46\n",
      "ইভ্যালি\t45\n",
      "\n",
      "Class Name :  Neutral\n",
      "Number of Documents:157\n",
      "Number of Words:1937\n",
      "Number of Unique Words:841\n",
      "Most Frequent Words:\n",
      "\n",
      "কি\t46\n",
      "থেকে\t24\n",
      "করে\t23\n",
      "না\t23\n",
      "আমার\t21\n",
      "পেমেন্ট\t20\n",
      "এই\t18\n",
      "অর্ডার\t18\n",
      "দারাজ\t17\n",
      "করতে\t16\n",
      "Total Number of Unique Words:2522\n"
     ]
    }
   ],
   "source": [
    "def data_summary(dataset):\n",
    "    documents = []\n",
    "    words = []\n",
    "    u_words = []\n",
    "    total_u_words = [word.strip().lower() for t in list(dataset.cleaned) for word in t.strip().split()]\n",
    "    class_label= [k for k,v in dataset.Tag.value_counts().to_dict().items()]\n",
    "  # find word list\n",
    "    for label in class_label: \n",
    "        word_list = [word.strip().lower() for t in list(dataset[dataset.Tag==label].cleaned) for word in t.strip().split()]\n",
    "        counts = dict()\n",
    "        for word in word_list:\n",
    "                counts[word] = counts.get(word, 0)+1\n",
    "        # sort the dictionary of word list  \n",
    "        ordered = sorted(counts.items(), key= lambda item: item[1],reverse = True)\n",
    "        # Documents per class\n",
    "        documents.append(len(list(dataset[dataset.Tag==label].cleaned)))\n",
    "        # Total Word per class\n",
    "        words.append(len(word_list))\n",
    "        # Unique words per class \n",
    "        u_words.append(len(np.unique(word_list)))\n",
    "       \n",
    "        print(\"\\nClass Name : \",label)\n",
    "        print(\"Number of Documents:{}\".format(len(list(dataset[dataset.Tag==label].cleaned))))  \n",
    "        print(\"Number of Words:{}\".format(len(word_list))) \n",
    "        print(\"Number of Unique Words:{}\".format(len(np.unique(word_list)))) \n",
    "        print(\"Most Frequent Words:\\n\")\n",
    "        for k,v in ordered[:10]:\n",
    "              print(\"{}\\t{}\".format(k,v))\n",
    "    print(\"Total Number of Unique Words:{}\".format(len(np.unique(total_u_words))))           \n",
    "   \n",
    "    return documents,words,u_words,class_label\n",
    "\n",
    "#call the fucntion\n",
    "documents,words,u_words,class_names = data_summary(dataset)    \n"
   ]
  },
  {
   "cell_type": "markdown",
   "metadata": {
    "colab_type": "text",
    "id": "HWKTj1zQjRPj"
   },
   "source": [
    "## Dataset Summary Visualization"
   ]
  },
  {
   "cell_type": "code",
   "execution_count": 60,
   "metadata": {},
   "outputs": [
    {
     "name": "stdout",
     "output_type": "stream",
     "text": [
      "  Class Names      Category  Values\n",
      "0    Negative   Total Words    8227\n",
      "1    Positive   Total Words    3276\n",
      "2     Neutral   Total Words    1937\n",
      "3    Negative  Unique Words    1732\n",
      "4    Positive  Unique Words     648\n",
      "5     Neutral  Unique Words     841\n"
     ]
    }
   ],
   "source": [
    "data_matrix = pd.DataFrame({'Total Words':words,\n",
    "                            'Unique Words':u_words,\n",
    "                            'Class Names':class_names})\n",
    "df = pd.melt(data_matrix, id_vars=\"Class Names\", var_name=\"Category\", value_name=\"Values\")\n",
    "print(df)"
   ]
  },
  {
   "cell_type": "code",
   "execution_count": null,
   "metadata": {},
   "outputs": [],
   "source": []
  },
  {
   "cell_type": "code",
   "execution_count": 22,
   "metadata": {
    "colab": {
     "base_uri": "https://localhost:8080/",
     "height": 342
    },
    "colab_type": "code",
    "executionInfo": {
     "elapsed": 1419,
     "status": "ok",
     "timestamp": 1596220290623,
     "user": {
      "displayName": "EFTEKHAR HOSSAIN 1308006",
      "photoUrl": "https://lh3.googleusercontent.com/a-/AOh14GhB_S2SahlIoGyzj581ugCWrrC6Yl1l6BBILkt0=s64",
      "userId": "05840817180100570187"
     },
     "user_tz": -360
    },
    "id": "SnjIpYyNjYJR",
    "outputId": "a4a3b66d-8d9e-4c30-c8ea-e211ce616af9"
   },
   "outputs": [
    {
     "data": {
      "image/png": "[encoded data removed]",
      "text/plain": [
       "<Figure size 432x288 with 1 Axes>"
      ]
     },
     "metadata": {},
     "output_type": "display_data"
    }
   ],
   "source": [
    "data_matrix = pd.DataFrame({'Total Documents':documents,\n",
    "                            'Total Words':words,\n",
    "                            'Unique Words':u_words,\n",
    "                            'Class Names':class_names})\n",
    "df = pd.melt(data_matrix, id_vars=\"Class Names\", var_name=\"Category\", value_name=\"Values\")\n",
    "plt.figure(figsize=(6, 4))\n",
    "ax = plt.subplot()\n",
    "\n",
    "sns.barplot(data=df,x='Class Names', y='Values' ,hue='Category')\n",
    "ax.set_xlabel('Class Names') \n",
    "ax.set_title('Data Statistics')\n",
    "\n",
    "ax.xaxis.set_ticklabels(class_names, rotation=45);"
   ]
  },
  {
   "cell_type": "markdown",
   "metadata": {
    "colab_type": "text",
    "id": "aFulAOWCjjIl"
   },
   "source": [
    "## Comment Lenght Distribution"
   ]
  },
  {
   "cell_type": "code",
   "execution_count": 23,
   "metadata": {
    "colab": {
     "base_uri": "https://localhost:8080/",
     "height": 349
    },
    "colab_type": "code",
    "executionInfo": {
     "elapsed": 1254,
     "status": "ok",
     "timestamp": 1596220295388,
     "user": {
      "displayName": "EFTEKHAR HOSSAIN 1308006",
      "photoUrl": "https://lh3.googleusercontent.com/a-/AOh14GhB_S2SahlIoGyzj581ugCWrrC6Yl1l6BBILkt0=s64",
      "userId": "05840817180100570187"
     },
     "user_tz": -360
    },
    "id": "y5J5qlgrjneI",
    "outputId": "3e8569c2-495c-4c2c-aae3-c2f5becb95ee"
   },
   "outputs": [
    {
     "data": {
      "image/png": "[encoded data removed]",
      "text/plain": [
       "<Figure size 432x288 with 1 Axes>"
      ]
     },
     "metadata": {},
     "output_type": "display_data"
    },
    {
     "name": "stdout",
     "output_type": "stream",
     "text": [
      "Maximum Length of a review: 190\n",
      "Minimum Length of a review: 3\n",
      "Average Length of a reviews: 16.0\n"
     ]
    }
   ],
   "source": [
    "# Calculate the Review of each of the Review\n",
    "dataset['ReviewLength'] = dataset.cleaned.apply(lambda x:len(x.split()))\n",
    "frequency = dict()\n",
    "for i in dataset.ReviewLength:\n",
    "    frequency[i] = frequency.get(i, 0)+1\n",
    "\n",
    "plt.bar(frequency.keys(), frequency.values(), color =\"b\")\n",
    "plt.xlim(1, 135)\n",
    "# in this notbook color is not working but it should work.\n",
    "plt.xlabel('Lenght of the Texts')\n",
    "plt.ylabel('Frequency')\n",
    "plt.title('Length-Frequency Distribution')\n",
    "plt.show()  \n",
    "print(f\"Maximum Length of a review: {max(dataset.ReviewLength)}\")\n",
    "print(f\"Minimum Length of a review: {min(dataset.ReviewLength)}\")\n",
    "print(f\"Average Length of a reviews: {round(np.mean(dataset.ReviewLength),0)}\")"
   ]
  },
  {
   "cell_type": "markdown",
   "metadata": {
    "colab_type": "text",
    "id": "MeIyz5P2rTvt"
   },
   "source": [
    "# Take only Positive and Negative Class for Model Building"
   ]
  },
  {
   "cell_type": "code",
   "execution_count": 24,
   "metadata": {
    "colab": {
     "base_uri": "https://localhost:8080/",
     "height": 72
    },
    "colab_type": "code",
    "executionInfo": {
     "elapsed": 915,
     "status": "ok",
     "timestamp": 1596397523633,
     "user": {
      "displayName": "EFTEKHAR HOSSAIN 1308006",
      "photoUrl": "https://lh3.googleusercontent.com/a-/AOh14GhB_S2SahlIoGyzj581ugCWrrC6Yl1l6BBILkt0=s64",
      "userId": "05840817180100570187"
     },
     "user_tz": -360
    },
    "id": "L5WNJuxFrbdO",
    "outputId": "ccc54e97-490d-4dd2-e558-04ceadc538a2"
   },
   "outputs": [
    {
     "data": {
      "text/plain": [
       "Negative    391\n",
       "Positive    303\n",
       "Name: Tag, dtype: int64"
      ]
     },
     "execution_count": 24,
     "metadata": {},
     "output_type": "execute_result"
    }
   ],
   "source": [
    "positive = dataset[dataset.Tag == 'Positive']\n",
    "negative = dataset[dataset.Tag == 'Negative']\n",
    "dataset = positive.append(negative,ignore_index=True)\n",
    "dataset.Tag.value_counts()"
   ]
  },
  {
   "cell_type": "markdown",
   "metadata": {
    "colab_type": "text",
    "id": "bPafojBokoaH"
   },
   "source": [
    "## Lable Encoding and Dataset Splitting"
   ]
  },
  {
   "cell_type": "code",
   "execution_count": 25,
   "metadata": {
    "colab": {},
    "colab_type": "code",
    "executionInfo": {
     "elapsed": 899,
     "status": "ok",
     "timestamp": 1596397463182,
     "user": {
      "displayName": "EFTEKHAR HOSSAIN 1308006",
      "photoUrl": "https://lh3.googleusercontent.com/a-/AOh14GhB_S2SahlIoGyzj581ugCWrrC6Yl1l6BBILkt0=s64",
      "userId": "05840817180100570187"
     },
     "user_tz": -360
    },
    "id": "UiuB4eZBktny"
   },
   "outputs": [],
   "source": [
    "def label_encoding(sentiment,bool):\n",
    "    le = LabelEncoder()\n",
    "    le.fit(sentiment)\n",
    "    encoded_labels = le.transform(sentiment)\n",
    "    labels = np.array(encoded_labels) # Converting into numpy array\n",
    "    class_names =le.classes_ ## Define the class names again\n",
    "    if bool == True:\n",
    "        print(\"\\n\\t\\t\\t===== Label Encoding =====\",\"\\nClass Names:-->\",le.classes_)\n",
    "        for i in sample_data:\n",
    "            print(sentiment[i],' ', encoded_labels[i],'\\n')\n",
    "\n",
    "    return labels\n",
    "\n",
    "def dataset_split(feature_space,sentiment):\n",
    "    X_train,X_test,y_train,y_test = train_test_split(feature_space,sentiment,train_size = 0.8,\n",
    "                                                  test_size = 0.2,random_state =2)\n",
    "    print(\"Feature Size :======>\",X_train.shape[1])\n",
    "    print(\"\\nDataset Distribution:\\n\")\n",
    "    print(\"\\tSet Name\",\"\\t\\tSize\")\n",
    "    print(\"\\t========\\t\\t======\")\n",
    "\n",
    "    print(\"\\tFull\\t\\t\\t\",feature_space.shape[0],\n",
    "        \"\\n\\tTraining\\t\\t\",X_train.shape[0],\n",
    "        \"\\n\\tTest\\t\\t\\t\",X_test.shape[0])\n",
    "  \n",
    "    return X_train,X_test,y_train,y_test\n"
   ]
  },
  {
   "cell_type": "code",
   "execution_count": 26,
   "metadata": {
    "colab": {},
    "colab_type": "code",
    "id": "Gq0wplXVrfm0"
   },
   "outputs": [],
   "source": [
    "dataset.cleaned = dataset.cleaned.apply(lambda x:x.replace('\\n',' '))"
   ]
  },
  {
   "cell_type": "markdown",
   "metadata": {
    "colab_type": "text",
    "id": "0CL612JzczVo"
   },
   "source": [
    "# **Model Building Using Machine Learning**"
   ]
  },
  {
   "cell_type": "markdown",
   "metadata": {
    "colab_type": "text",
    "id": "UnEDFTd0kdzx"
   },
   "source": [
    "## Feature Extraction Using TF-IDF"
   ]
  },
  {
   "cell_type": "code",
   "execution_count": 27,
   "metadata": {
    "colab": {},
    "colab_type": "code",
    "id": "5XTcv1Uyui5Q"
   },
   "outputs": [],
   "source": [
    "def calc_gram_tfidf(reviews,gram):\n",
    "    tfidf = TfidfVectorizer(ngram_range=gram,use_idf=True,tokenizer=lambda x: x.split()) \n",
    "    X = tfidf.fit_transform(reviews)\n",
    "    return tfidf,X"
   ]
  },
  {
   "cell_type": "code",
   "execution_count": 35,
   "metadata": {
    "colab": {},
    "colab_type": "code",
    "id": "p9MTZ5g7mUj3"
   },
   "outputs": [],
   "source": [
    "from sklearn.linear_model import LogisticRegression\n",
    "from sklearn.tree import DecisionTreeClassifier\n",
    "from sklearn.ensemble import RandomForestClassifier\n",
    "from sklearn.naive_bayes import MultinomialNB\n",
    "from sklearn.neighbors import KNeighborsClassifier\n",
    "from sklearn.svm import SVC\n",
    "from sklearn.linear_model import SGDClassifier\n",
    "from sklearn.metrics import classification_report,accuracy_score,precision_score,recall_score,f1_score\n",
    "from sklearn.metrics import roc_curve, roc_auc_score\n",
    "from sklearn.metrics import average_precision_score,roc_auc_score, roc_curve, precision_recall_curve"
   ]
  },
  {
   "cell_type": "code",
   "execution_count": 81,
   "metadata": {
    "colab": {},
    "colab_type": "code",
    "id": "Bv62bKnXmdkr"
   },
   "outputs": [],
   "source": [
    "def ml_models_defination(): \n",
    "    lr_model = LogisticRegression(random_state = 123)\n",
    "    dt_model = DecisionTreeClassifier(criterion = 'entropy', random_state = 0)\n",
    "    rf_model = RandomForestClassifier(n_estimators=100, criterion ='entropy', random_state = 0)\n",
    "    mnb_model = MultinomialNB(alpha=0.15)\n",
    "    knn_model = KNeighborsClassifier(n_neighbors=5, metric = 'minkowski')\n",
    "    lsvm_model = SVC(kernel = 'linear',C = 0.2, probability=True, random_state = 0)\n",
    "    ksvm_model = SVC(C= 1000,kernel = 'rbf',probability=True, gamma = 0.00015, random_state = 0)\n",
    "    model_names = ['Logistic Regression','Decision Tree','Random Forest','Naive Bayes','KNN','Linear SVM','Kernel SVM']\n",
    "    ml_models = [lr_model,dt_model,rf_model,mnb_model,knn_model,lsvm_model,ksvm_model]\n",
    "    return ml_models,model_names "
   ]
  },
  {
   "cell_type": "code",
   "execution_count": 82,
   "metadata": {},
   "outputs": [],
   "source": [
    "def model_performace(model,X_train,X_test,y_train,y_test):\n",
    "    my_dict = {}\n",
    "    model.fit(X_train,y_train)\n",
    "    # Prediction\n",
    "    pred_y = model.predict(X_test)\n",
    "    my_dict['Accuracy'] = round(accuracy_score(y_test, pred_y),4)*100 \n",
    "    my_dict['Precision'] = round(precision_score(y_test, pred_y),4)*100 \n",
    "    my_dict['Recall'] = round(recall_score(y_test, pred_y),4)*100 \n",
    "    my_dict['F1 Score'] = round(f1_score(y_test, pred_y),4)*100 \n",
    "    return my_dict  "
   ]
  },
  {
   "cell_type": "code",
   "execution_count": 83,
   "metadata": {},
   "outputs": [],
   "source": [
    "def performance_table(performance_dict):\n",
    "    acc_list = []\n",
    "    pr_list = []\n",
    "    re_list = []\n",
    "    f1_list = []\n",
    "    for i in performance_dict.keys():\n",
    "        acc_list.append(performance_dict[i]['Accuracy'])\n",
    "        pr_list.append(performance_dict[i]['Precision'])\n",
    "        re_list.append(performance_dict[i]['Recall'])\n",
    "        f1_list.append(performance_dict[i]['F1 Score'])\n",
    "\n",
    "    # Create a dataframe\n",
    "    model_names = ['LR','DT','RF','MNB','KNN','Linear SVM','RBF SVM']\n",
    "    performance_df = pd.DataFrame({'Accuracy':acc_list,'Precision':pr_list,\n",
    "                                   'Recall':re_list,'F1 Score':f1_list,\n",
    "                                   'Model Name':model_names })\n",
    "    return performance_df      "
   ]
  },
  {
   "cell_type": "markdown",
   "metadata": {
    "colab_type": "text",
    "id": "Fprji1HsbcmG"
   },
   "source": [
    "## Model Training"
   ]
  },
  {
   "cell_type": "code",
   "execution_count": 84,
   "metadata": {
    "colab": {},
    "colab_type": "code",
    "id": "x1niAeoCvGE9"
   },
   "outputs": [
    {
     "name": "stdout",
     "output_type": "stream",
     "text": [
      "Feature Size :======> 7877\n",
      "\n",
      "Dataset Distribution:\n",
      "\n",
      "\tSet Name \t\tSize\n",
      "\t========\t\t======\n",
      "\tFull\t\t\t 694 \n",
      "\tTraining\t\t 555 \n",
      "\tTest\t\t\t 139\n",
      "Feature Size :======> 14091\n",
      "\n",
      "Dataset Distribution:\n",
      "\n",
      "\tSet Name \t\tSize\n",
      "\t========\t\t======\n",
      "\tFull\t\t\t 694 \n",
      "\tTraining\t\t 555 \n",
      "\tTest\t\t\t 139\n",
      "Feature Size :======> 20036\n",
      "\n",
      "Dataset Distribution:\n",
      "\n",
      "\tSet Name \t\tSize\n",
      "\t========\t\t======\n",
      "\tFull\t\t\t 694 \n",
      "\tTraining\t\t 555 \n",
      "\tTest\t\t\t 139\n"
     ]
    }
   ],
   "source": [
    "## save the performance of the model for each gram feature \n",
    "gram_names = ['Unigram','Bigram','Trigram']\n",
    "ngrams = [(1,2), (1,3), (1,4)]\n",
    "for i,gram in enumerate(ngrams):\n",
    "    tfidf,feature = calc_gram_tfidf(dataset.cleaned,gram)\n",
    "    labels = label_encoding(dataset.Tag,False)\n",
    "    X_train,X_test,y_train,y_test = dataset_split(feature,labels) \n",
    "    ml_models,model_names = ml_models_defination()\n",
    "    # call model accuracy function and save the metrices into a dictionary\n",
    "    accuracy = {f'{model_names[j]}':model_performace(model,X_train,X_test,y_train,y_test) for j,model in enumerate(ml_models)}\n",
    "    #Save the performance parameter into json file\n",
    "    with open( f'ml_performance_{gram_names[i]}.json', 'w') as f:\n",
    "          json.dump(accuracy, f)"
   ]
  },
  {
   "cell_type": "markdown",
   "metadata": {
    "colab_type": "text",
    "id": "adgILEqHbWwu"
   },
   "source": [
    "## Performance Table"
   ]
  },
  {
   "cell_type": "code",
   "execution_count": 85,
   "metadata": {
    "colab": {
     "base_uri": "https://localhost:8080/",
     "height": 945
    },
    "colab_type": "code",
    "executionInfo": {
     "elapsed": 831,
     "status": "ok",
     "timestamp": 1596224704720,
     "user": {
      "displayName": "EFTEKHAR HOSSAIN 1308006",
      "photoUrl": "https://lh3.googleusercontent.com/a-/AOh14GhB_S2SahlIoGyzj581ugCWrrC6Yl1l6BBILkt0=s64",
      "userId": "05840817180100570187"
     },
     "user_tz": -360
    },
    "id": "EgXI9CKywYGi",
    "outputId": "5e899f18-3dbe-45f8-a76b-9c76644449df"
   },
   "outputs": [
    {
     "name": "stdout",
     "output_type": "stream",
     "text": [
      "\n",
      "========== Performace Table for Unigram feature:========\n",
      "    Accuracy  Precision  Recall  F1 Score  Model Name\n",
      "0     87.05      95.92   74.60     83.93          LR\n",
      "1     87.05      83.58   88.89     86.15          DT\n",
      "2     90.65      94.64   84.13     89.08          RF\n",
      "3     88.49      82.19   95.24     88.24         MNB\n",
      "4     87.05      82.61   90.48     86.36         KNN\n",
      "5     84.17      95.56   68.25     79.63  Linear SVM\n",
      "6     86.33      95.83   73.02     82.88     RBF SVM\n",
      "\n",
      "========In case of Unigram feature:========\n",
      "\n",
      "Highest Accuracy achieved by RF at = 90.64999999999999\n",
      "Highest F1-Score achieved by RF at = 89.08\n",
      "Highest Precision Score achieved by LR at = 95.92\n",
      "\n",
      "========== Performace Table for Bigram feature:========\n",
      "    Accuracy  Precision  Recall  F1 Score  Model Name\n",
      "0     87.05      95.92   74.60     83.93          LR\n",
      "1     88.49      85.07   90.48     87.69          DT\n",
      "2     87.77      94.23   77.78     85.22          RF\n",
      "3     84.89      76.25   96.83     85.31         MNB\n",
      "4     87.05      82.61   90.48     86.36         KNN\n",
      "5     82.73      95.35   65.08     77.36  Linear SVM\n",
      "6     85.61      95.74   71.43     81.82     RBF SVM\n",
      "\n",
      "========In case of Bigram feature:========\n",
      "\n",
      "Highest Accuracy achieved by DT at = 88.49000000000001\n",
      "Highest F1-Score achieved by DT at = 87.69\n",
      "Highest Precision Score achieved by LR at = 95.92\n",
      "\n",
      "========== Performace Table for Trigram feature:========\n",
      "    Accuracy  Precision  Recall  F1 Score  Model Name\n",
      "0     87.05      95.92   74.60     83.93          LR\n",
      "1     87.77      83.82   90.48     87.02          DT\n",
      "2     89.93     100.00   77.78     87.50          RF\n",
      "3     81.29      71.26   98.41     82.67         MNB\n",
      "4     86.33      81.43   90.48     85.71         KNN\n",
      "5     80.58      95.00   60.32     73.79  Linear SVM\n",
      "6     85.61      95.74   71.43     81.82     RBF SVM\n",
      "\n",
      "========In case of Trigram feature:========\n",
      "\n",
      "Highest Accuracy achieved by RF at = 89.92999999999999\n",
      "Highest F1-Score achieved by RF at = 87.5\n",
      "Highest Precision Score achieved by RF at = 100.0\n"
     ]
    }
   ],
   "source": [
    "# Load all the json files\n",
    "gram_names = ['Unigram', 'Bigram', 'Trigram']\n",
    "\n",
    "for gram in gram_names:\n",
    "  accuracy = json.load(open(f'ml_performance_{gram}.json'))\n",
    "  table = performance_table(accuracy)\n",
    "  print(f\"\\n========== Performace Table for {gram} feature:========\\n\",table)\n",
    "  print(f\"\\n========In case of {gram} feature:========\\n\")\n",
    "  print(f\"Highest Accuracy achieved by {table['Model Name'][table.Accuracy.idxmax(axis = 0)]} at = {max(table.Accuracy)}\")\n",
    "  print(f\"Highest F1-Score achieved by {table['Model Name'][table['F1 Score'].idxmax(axis = 0)]} at = {max(table['F1 Score'] )}\")\n",
    "  print(f\"Highest Precision Score achieved by {table['Model Name'][table['Precision'].idxmax(axis = 0)]} at = {max(table['Precision'] )}\")\n",
    "  #print(f\"Highest Recall Score achieved by {table['Model Name'][table['Recall'].idxmax(axis = 0)]} at = {max(table['Recall'] )}\")"
   ]
  },
  {
   "cell_type": "markdown",
   "metadata": {
    "colab_type": "text",
    "id": "ikQHi7EdqfuN"
   },
   "source": [
    "**Conclusion:**\n",
    "\n",
    "***From this performance table it can be said that the Bigram feature combination with KNN classifier provides highest accuray and F1-score value.***"
   ]
  },
  {
   "cell_type": "markdown",
   "metadata": {
    "colab_type": "text",
    "id": "6Y7pmQhdaED5"
   },
   "source": [
    "## Performance Visualization"
   ]
  },
  {
   "cell_type": "code",
   "execution_count": 86,
   "metadata": {
    "colab": {
     "base_uri": "https://localhost:8080/",
     "height": 1000
    },
    "colab_type": "code",
    "executionInfo": {
     "elapsed": 2030,
     "status": "ok",
     "timestamp": 1596224937939,
     "user": {
      "displayName": "EFTEKHAR HOSSAIN 1308006",
      "photoUrl": "https://lh3.googleusercontent.com/a-/AOh14GhB_S2SahlIoGyzj581ugCWrrC6Yl1l6BBILkt0=s64",
      "userId": "05840817180100570187"
     },
     "user_tz": -360
    },
    "id": "iu3tiCZY0IPq",
    "outputId": "50e4b467-36dc-48a6-edab-91b4a2d276cf"
   },
   "outputs": [
    {
     "data": {
      "image/png": "[encoded data removed]",
      "text/plain": [
       "<Figure size 576x432 with 1 Axes>"
      ]
     },
     "metadata": {},
     "output_type": "display_data"
    },
    {
     "data": {
      "image/png": "[encoded data removed]",
      "text/plain": [
       "<Figure size 576x432 with 1 Axes>"
      ]
     },
     "metadata": {},
     "output_type": "display_data"
    },
    {
     "data": {
      "image/png": "[encoded data removed]",
      "text/plain": [
       "<Figure size 576x432 with 1 Axes>"
      ]
     },
     "metadata": {},
     "output_type": "display_data"
    }
   ],
   "source": [
    "gram_names = ['Unigram','Bigram','Trigram']\n",
    "\n",
    "for gram in gram_names:\n",
    "  accuracy = json.load(open(f'ml_performance_{gram}.json'))\n",
    "  table = performance_table(accuracy)\n",
    "  df = pd.melt(table[['Accuracy','F1 Score','Model Name']], id_vars=\"Model Name\", var_name=\"Category\", value_name=\"Values\")\n",
    "  plt.figure(figsize=(8,6))\n",
    "  ax = plt.subplot()\n",
    "  sns.barplot(data=df,x='Model Name', y='Values' ,hue='Category')\n",
    "  ax.set_xlabel('Model Name') \n",
    "  ax.set_title(f'Comparison of Accuracy and F1-Score Value for {gram} Feature')\n",
    "  ax.set_ylim([10,100])\n",
    "  ax.xaxis.set_ticklabels(table['Model Name'], rotation=45);"
   ]
  },
  {
   "cell_type": "code",
   "execution_count": null,
   "metadata": {},
   "outputs": [],
   "source": []
  }
 ],
 "metadata": {
  "accelerator": "GPU",
  "colab": {
   "authorship_tag": "ABX9TyNtJMtq6WmVRP0LrcJk4KeU",
   "collapsed_sections": [],
   "name": "news_comment_sentiment_analysis.ipynb",
   "provenance": []
  },
  "kernelspec": {
   "display_name": "Python 3",
   "language": "python",
   "name": "python3"
  },
  "language_info": {
   "codemirror_mode": {
    "name": "ipython",
    "version": 3
   },
   "file_extension": ".py",
   "mimetype": "text/x-python",
   "name": "python",
   "nbconvert_exporter": "python",
   "pygments_lexer": "ipython3",
   "version": "3.8.5"
  }
 },
 "nbformat": 4,
 "nbformat_minor": 1
}
